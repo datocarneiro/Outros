{
 "cells": [
  {
   "cell_type": "markdown",
   "metadata": {},
   "source": [
    "### ***Básico***"
   ]
  },
  {
   "cell_type": "code",
   "execution_count": null,
   "metadata": {},
   "outputs": [],
   "source": [
    "a = 0 \n",
    "b = 1 \n",
    "for i in range(8):\n",
    "    print(b) # na 1ª iteração B tem o valor de 1, na 2º será igual ao valor do calculo     \n",
    "    calculo = a + b # na 1ª iteração A tem o valor de 0, na 2º será igual ao valor do 1ª B\n",
    "    a = b  # a cada interação `a` valerá igual ao b do print\n",
    "    b = calculo  # a cada iteração b valerá o calcul"
   ]
  },
  {
   "cell_type": "markdown",
   "metadata": {},
   "source": [
    "### ***Básico Reduzido***"
   ]
  },
  {
   "cell_type": "code",
   "execution_count": null,
   "metadata": {},
   "outputs": [],
   "source": [
    "n1, n2 = 0, 1\n",
    "for i in range(8):\n",
    "    print(n2)\n",
    "    n1, n2 = n2, n1 + n2"
   ]
  },
  {
   "cell_type": "markdown",
   "metadata": {},
   "source": [
    "### ***Básico com Lista***"
   ]
  },
  {
   "cell_type": "code",
   "execution_count": null,
   "metadata": {},
   "outputs": [],
   "source": [
    "lista = []\n",
    "a = 0\n",
    "b = 1\n",
    "for i in range(8):\n",
    "    lista.append(b) # na 1ª iteração 'B' tem o valor de 1, na 2º será igual ao valor do calculo     \n",
    "    calculo = a + b # na 1ª iteração 'A' tem o valor de 0, na 2º será igual ao valor do 1ª 'B'\n",
    "    a = b  # a cada interação `A` valerá igual ao b do print\n",
    "    b = calculo  # a cada iteração 'B' valerá o calculo \n",
    "print(*lista, sep = ', ') \n"
   ]
  },
  {
   "cell_type": "markdown",
   "metadata": {},
   "source": [
    "### ***Básico reduzido com Lista***"
   ]
  },
  {
   "cell_type": "code",
   "execution_count": 238,
   "metadata": {},
   "outputs": [
    {
     "name": "stdout",
     "output_type": "stream",
     "text": [
      "1, 1, 2, 3, 5, 8, 13, 21\n"
     ]
    }
   ],
   "source": [
    "n1, n2 = 0, 1\n",
    "lista = []\n",
    "for i in range(8):\n",
    "    lista.append(n2)\n",
    "    n1, n2 = n2, n1 + n2\n",
    "print(*lista, sep = ', ')"
   ]
  }
 ],
 "metadata": {
  "kernelspec": {
   "display_name": "Python 3",
   "language": "python",
   "name": "python3"
  },
  "language_info": {
   "codemirror_mode": {
    "name": "ipython",
    "version": 3
   },
   "file_extension": ".py",
   "mimetype": "text/x-python",
   "name": "python",
   "nbconvert_exporter": "python",
   "pygments_lexer": "ipython3",
   "version": "3.11.5"
  }
 },
 "nbformat": 4,
 "nbformat_minor": 2
}
