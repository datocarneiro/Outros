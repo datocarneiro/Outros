{
 "cells": [
  {
   "cell_type": "code",
   "execution_count": 1,
   "metadata": {},
   "outputs": [
    {
     "name": "stdout",
     "output_type": "stream",
     "text": [
      "Franquia: 19233\n",
      "AWB: 95712801530\n",
      "Status: Tranferencia\n",
      "------------------------------\n",
      "Franquia: 37823\n",
      "AWB: 95712800896\n",
      "Status: ENTREGUE\n",
      "não adicionar\n",
      "------------------------------\n",
      "Franquia: 38877\n",
      "AWB: 95712800093\n",
      "Status: ENTREGUE\n",
      "não adicionar\n",
      "------------------------------\n",
      "Franquia: 41262\n",
      "AWB: 95712799592\n",
      "Status: ENTREGUE\n",
      "não adicionar\n",
      "------------------------------\n",
      "Franquia: 42642\n",
      "AWB: 95713102972\n",
      "Status: Retida\n",
      "------------------------------\n",
      "lista_final:[95712801530, 95713102972]\n",
      "{95713102972: 'Retida'}\n",
      "------------------------------\n"
     ]
    }
   ],
   "source": [
    "from openpyxl import Workbook, load_workbook\n",
    "\n",
    "# Carregar planilha\n",
    "planilha = load_workbook('Rastreamento.xlsx')\n",
    "aba_ativa = planilha.active\n",
    "\n",
    "\n",
    "# consultar a planilha, e criar uma lista somente com as que forem diferente de \"ENTREGUE\"\n",
    "lista = []\n",
    "dicionario = {}\n",
    "for coluna_a, coluna_c, coluna_d in zip(aba_ativa[\"A\"][1:], aba_ativa[\"C\"][1:], aba_ativa[\"D\"][1:]):\n",
    "    print(f'Franquia: {coluna_a.value}')\n",
    "    print(f'AWB: {coluna_c.value}')\n",
    "    print(f'Status: {coluna_d.value}')\n",
    "    #se os dados da coluna \"D(status)\" forem diferente de \"Entregue\", adicione(append) à lista os dados da coluna \"C(AWB)\".\n",
    "    if coluna_d.value != 'ENTREGUE':\n",
    "        lista.append(coluna_c.value)\n",
    "        print('-'*30)\n",
    "    else:\n",
    "        print('não adicionar')\n",
    "        print('-'*30)\n",
    "print(f'lista_final:{lista[:]}')\n",
    "\n",
    "Statu_novo = []\n",
    "dicionario[coluna_c.value] = coluna_d.value\n",
    "print(dicionario)\n",
    "\n",
    "print('-'*30)\n",
    "\n"
   ]
  },
  {
   "cell_type": "code",
   "execution_count": 2,
   "metadata": {},
   "outputs": [
    {
     "name": "stdout",
     "output_type": "stream",
     "text": [
      "[12801530, 13102972]\n"
     ]
    }
   ],
   "source": [
    "lista_final = [95712801530, 95713102972]\n",
    "lista_awb_formatada = []\n",
    "\n",
    "for i in lista_final:\n",
    "    awb_formatado = int(str(i)[3:])  # Cortar os 3 primeiros números e converter de volta para inteiro\n",
    "    lista_awb_formatada.append(awb_formatado)\n",
    "print(lista_awb_formatada)\n"
   ]
  },
  {
   "cell_type": "code",
   "execution_count": 224,
   "metadata": {},
   "outputs": [
    {
     "ename": "PermissionError",
     "evalue": "[WinError 5] Acesso negado: 'C:\\\\Users\\\\dato\\\\.wdm\\\\drivers\\\\chromedriver\\\\win64\\\\117.0.5938.62\\\\chromedriver-win32\\\\chromedriver.exe' -> 'C:\\\\Users\\\\dato\\\\.wdm\\\\drivers\\\\chromedriver\\\\win64\\\\117.0.5938.62\\\\chromedriver.exe'",
     "output_type": "error",
     "traceback": [
      "\u001b[1;31m---------------------------------------------------------------------------\u001b[0m",
      "\u001b[1;31mPermissionError\u001b[0m                           Traceback (most recent call last)",
      "File \u001b[1;32mc:\\Users\\dato\\AppData\\Local\\Programs\\Python\\Python311\\Lib\\site-packages\\webdriver_manager\\core\\file_manager.py:65\u001b[0m, in \u001b[0;36mFileManager.__extract_zip\u001b[1;34m(self, archive_file, to_directory)\u001b[0m\n\u001b[0;32m     64\u001b[0m \u001b[39mtry\u001b[39;00m:\n\u001b[1;32m---> 65\u001b[0m     archive\u001b[39m.\u001b[39;49mextractall(to_directory)\n\u001b[0;32m     66\u001b[0m \u001b[39mexcept\u001b[39;00m \u001b[39mException\u001b[39;00m \u001b[39mas\u001b[39;00m e:\n",
      "File \u001b[1;32mc:\\Users\\dato\\AppData\\Local\\Programs\\Python\\Python311\\Lib\\zipfile.py:1681\u001b[0m, in \u001b[0;36mZipFile.extractall\u001b[1;34m(self, path, members, pwd)\u001b[0m\n\u001b[0;32m   1680\u001b[0m \u001b[39mfor\u001b[39;00m zipinfo \u001b[39min\u001b[39;00m members:\n\u001b[1;32m-> 1681\u001b[0m     \u001b[39mself\u001b[39;49m\u001b[39m.\u001b[39;49m_extract_member(zipinfo, path, pwd)\n",
      "File \u001b[1;32mc:\\Users\\dato\\AppData\\Local\\Programs\\Python\\Python311\\Lib\\zipfile.py:1735\u001b[0m, in \u001b[0;36mZipFile._extract_member\u001b[1;34m(self, member, targetpath, pwd)\u001b[0m\n\u001b[0;32m   1732\u001b[0m     \u001b[39mreturn\u001b[39;00m targetpath\n\u001b[0;32m   1734\u001b[0m \u001b[39mwith\u001b[39;00m \u001b[39mself\u001b[39m\u001b[39m.\u001b[39mopen(member, pwd\u001b[39m=\u001b[39mpwd) \u001b[39mas\u001b[39;00m source, \\\n\u001b[1;32m-> 1735\u001b[0m      \u001b[39mopen\u001b[39m(targetpath, \u001b[39m\"\u001b[39m\u001b[39mwb\u001b[39m\u001b[39m\"\u001b[39m) \u001b[39mas\u001b[39;00m target:\n\u001b[0;32m   1736\u001b[0m     shutil\u001b[39m.\u001b[39mcopyfileobj(source, target)\n",
      "\u001b[1;31mPermissionError\u001b[0m: [Errno 13] Permission denied: 'C:\\\\Users\\\\dato\\\\.wdm\\\\drivers\\\\chromedriver\\\\win64\\\\117.0.5938.62\\\\chromedriver-win32\\\\chromedriver.exe'",
      "\nDuring handling of the above exception, another exception occurred:\n",
      "\u001b[1;31mPermissionError\u001b[0m                           Traceback (most recent call last)",
      "Cell \u001b[1;32mIn[224], line 11\u001b[0m\n\u001b[0;32m      8\u001b[0m \u001b[39mfrom\u001b[39;00m \u001b[39mselenium\u001b[39;00m\u001b[39m.\u001b[39;00m\u001b[39mwebdriver\u001b[39;00m\u001b[39m.\u001b[39;00m\u001b[39mchrome\u001b[39;00m\u001b[39m.\u001b[39;00m\u001b[39moptions\u001b[39;00m \u001b[39mimport\u001b[39;00m Options\n\u001b[0;32m      9\u001b[0m \u001b[39mfrom\u001b[39;00m \u001b[39mselenium\u001b[39;00m\u001b[39m.\u001b[39;00m\u001b[39mcommon\u001b[39;00m\u001b[39m.\u001b[39;00m\u001b[39mexceptions\u001b[39;00m \u001b[39mimport\u001b[39;00m NoSuchElementException\n\u001b[1;32m---> 11\u001b[0m servico \u001b[39m=\u001b[39m Service(ChromeDriverManager()\u001b[39m.\u001b[39;49minstall())\n\u001b[0;32m     13\u001b[0m lista_awb_formatada \u001b[39m=\u001b[39m [\u001b[39m12801530\u001b[39m, \u001b[39m13102972\u001b[39m]\n\u001b[0;32m     14\u001b[0m \u001b[39mfor\u001b[39;00m i \u001b[39min\u001b[39;00m lista_awb_formatada:\n",
      "File \u001b[1;32mc:\\Users\\dato\\AppData\\Local\\Programs\\Python\\Python311\\Lib\\site-packages\\webdriver_manager\\chrome.py:40\u001b[0m, in \u001b[0;36mChromeDriverManager.install\u001b[1;34m(self)\u001b[0m\n\u001b[0;32m     39\u001b[0m \u001b[39mdef\u001b[39;00m \u001b[39minstall\u001b[39m(\u001b[39mself\u001b[39m) \u001b[39m-\u001b[39m\u001b[39m>\u001b[39m \u001b[39mstr\u001b[39m:\n\u001b[1;32m---> 40\u001b[0m     driver_path \u001b[39m=\u001b[39m \u001b[39mself\u001b[39;49m\u001b[39m.\u001b[39;49m_get_driver_binary_path(\u001b[39mself\u001b[39;49m\u001b[39m.\u001b[39;49mdriver)\n\u001b[0;32m     41\u001b[0m     os\u001b[39m.\u001b[39mchmod(driver_path, \u001b[39m0o755\u001b[39m)\n\u001b[0;32m     42\u001b[0m     \u001b[39mreturn\u001b[39;00m driver_path\n",
      "File \u001b[1;32mc:\\Users\\dato\\AppData\\Local\\Programs\\Python\\Python311\\Lib\\site-packages\\webdriver_manager\\core\\manager.py:41\u001b[0m, in \u001b[0;36mDriverManager._get_driver_binary_path\u001b[1;34m(self, driver)\u001b[0m\n\u001b[0;32m     39\u001b[0m os_type \u001b[39m=\u001b[39m \u001b[39mself\u001b[39m\u001b[39m.\u001b[39mget_os_type()\n\u001b[0;32m     40\u001b[0m file \u001b[39m=\u001b[39m \u001b[39mself\u001b[39m\u001b[39m.\u001b[39m_download_manager\u001b[39m.\u001b[39mdownload_file(driver\u001b[39m.\u001b[39mget_driver_download_url(os_type))\n\u001b[1;32m---> 41\u001b[0m binary_path \u001b[39m=\u001b[39m \u001b[39mself\u001b[39;49m\u001b[39m.\u001b[39;49m_cache_manager\u001b[39m.\u001b[39;49msave_file_to_cache(driver, file)\n\u001b[0;32m     42\u001b[0m \u001b[39mreturn\u001b[39;00m binary_path\n",
      "File \u001b[1;32mc:\\Users\\dato\\AppData\\Local\\Programs\\Python\\Python311\\Lib\\site-packages\\webdriver_manager\\core\\driver_cache.py:54\u001b[0m, in \u001b[0;36mDriverCacheManager.save_file_to_cache\u001b[1;34m(self, driver, file)\u001b[0m\n\u001b[0;32m     52\u001b[0m path \u001b[39m=\u001b[39m \u001b[39mself\u001b[39m\u001b[39m.\u001b[39m__get_path(driver)\n\u001b[0;32m     53\u001b[0m archive \u001b[39m=\u001b[39m \u001b[39mself\u001b[39m\u001b[39m.\u001b[39msave_archive_file(file, path)\n\u001b[1;32m---> 54\u001b[0m files \u001b[39m=\u001b[39m \u001b[39mself\u001b[39;49m\u001b[39m.\u001b[39;49munpack_archive(archive, path)\n\u001b[0;32m     55\u001b[0m binary \u001b[39m=\u001b[39m \u001b[39mself\u001b[39m\u001b[39m.\u001b[39m__get_binary(files, driver\u001b[39m.\u001b[39mget_name())\n\u001b[0;32m     56\u001b[0m binary_path \u001b[39m=\u001b[39m os\u001b[39m.\u001b[39mpath\u001b[39m.\u001b[39mjoin(path, binary)\n",
      "File \u001b[1;32mc:\\Users\\dato\\AppData\\Local\\Programs\\Python\\Python311\\Lib\\site-packages\\webdriver_manager\\core\\driver_cache.py:49\u001b[0m, in \u001b[0;36mDriverCacheManager.unpack_archive\u001b[1;34m(self, archive, path)\u001b[0m\n\u001b[0;32m     48\u001b[0m \u001b[39mdef\u001b[39;00m \u001b[39munpack_archive\u001b[39m(\u001b[39mself\u001b[39m, archive, path):\n\u001b[1;32m---> 49\u001b[0m     \u001b[39mreturn\u001b[39;00m \u001b[39mself\u001b[39;49m\u001b[39m.\u001b[39;49m_file_manager\u001b[39m.\u001b[39;49munpack_archive(archive, path)\n",
      "File \u001b[1;32mc:\\Users\\dato\\AppData\\Local\\Programs\\Python\\Python311\\Lib\\site-packages\\webdriver_manager\\core\\file_manager.py:57\u001b[0m, in \u001b[0;36mFileManager.unpack_archive\u001b[1;34m(self, archive_file, target_dir)\u001b[0m\n\u001b[0;32m     55\u001b[0m file_path \u001b[39m=\u001b[39m archive_file\u001b[39m.\u001b[39mfile_path\n\u001b[0;32m     56\u001b[0m \u001b[39mif\u001b[39;00m file_path\u001b[39m.\u001b[39mendswith(\u001b[39m\"\u001b[39m\u001b[39m.zip\u001b[39m\u001b[39m\"\u001b[39m):\n\u001b[1;32m---> 57\u001b[0m     \u001b[39mreturn\u001b[39;00m \u001b[39mself\u001b[39;49m\u001b[39m.\u001b[39;49m__extract_zip(archive_file, target_dir)\n\u001b[0;32m     58\u001b[0m \u001b[39melif\u001b[39;00m file_path\u001b[39m.\u001b[39mendswith(\u001b[39m\"\u001b[39m\u001b[39m.tar.gz\u001b[39m\u001b[39m\"\u001b[39m):\n\u001b[0;32m     59\u001b[0m     \u001b[39mreturn\u001b[39;00m \u001b[39mself\u001b[39m\u001b[39m.\u001b[39m__extract_tar_file(archive_file, target_dir)\n",
      "File \u001b[1;32mc:\\Users\\dato\\AppData\\Local\\Programs\\Python\\Python311\\Lib\\site-packages\\webdriver_manager\\core\\file_manager.py:81\u001b[0m, in \u001b[0;36mFileManager.__extract_zip\u001b[1;34m(self, archive_file, to_directory)\u001b[0m\n\u001b[0;32m     79\u001b[0m         source \u001b[39m=\u001b[39m os\u001b[39m.\u001b[39mpath\u001b[39m.\u001b[39mjoin(full_file_path, file_name)\n\u001b[0;32m     80\u001b[0m         destination \u001b[39m=\u001b[39m os\u001b[39m.\u001b[39mpath\u001b[39m.\u001b[39mjoin(to_directory, file_name)\n\u001b[1;32m---> 81\u001b[0m         os\u001b[39m.\u001b[39mreplace(source, destination)\n\u001b[0;32m     82\u001b[0m         file_names\u001b[39m.\u001b[39mappend(file_name)\n\u001b[0;32m     83\u001b[0m \u001b[39mreturn\u001b[39;00m \u001b[39msorted\u001b[39m(file_names, key\u001b[39m=\u001b[39m\u001b[39mlambda\u001b[39;00m x: x\u001b[39m.\u001b[39mlower())\n",
      "\u001b[1;31mPermissionError\u001b[0m: [WinError 5] Acesso negado: 'C:\\\\Users\\\\dato\\\\.wdm\\\\drivers\\\\chromedriver\\\\win64\\\\117.0.5938.62\\\\chromedriver-win32\\\\chromedriver.exe' -> 'C:\\\\Users\\\\dato\\\\.wdm\\\\drivers\\\\chromedriver\\\\win64\\\\117.0.5938.62\\\\chromedriver.exe'"
     ]
    }
   ],
   "source": [
    "import time\n",
    "from selenium import webdriver\n",
    "from webdriver_manager.chrome import ChromeDriverManager\n",
    "from selenium.webdriver.chrome.service import Service\n",
    "from selenium.webdriver.common.by import By\n",
    "from selenium.webdriver.support.ui import WebDriverWait\n",
    "from selenium.webdriver.support import expected_conditions as EC\n",
    "from selenium.webdriver.chrome.options import Options\n",
    "from selenium.common.exceptions import NoSuchElementException\n",
    "\n",
    "servico = Service(ChromeDriverManager().install())\n",
    "\n",
    "lista_awb_formatada = [12801530, 13102972]\n",
    "for i in lista_awb_formatada:\n",
    "    print(i)\n",
    "\n",
    "    print('-'*30)\n",
    "  \n",
    "    opcoes = Options()\n",
    "    opcoes.headless = False  # modo off ou não\n",
    "    driver = webdriver.Chrome(service=servico, options=opcoes)\n",
    "\n",
    "    print('... Entrando Sistema Latam ...')\n",
    "    # https://www.latamcargo.com/en/trackshipment?docNumber=12801530&docPrefix=957&soType=SO\n",
    "\n",
    "    driver.get(f'\"https://www.latamcargo.com/en/trackshipment?docNumber={i}&docPrefix=957&soType=SO\"')\n",
    "    #driver.find_element(By.XPATH, '//*[@id=\"login\"]').send_keys(\"xxxxxxxxxx\") # insira o login \n",
    "\n",
    "    for i in range(30, 0, -1):\n",
    "        print(f\"Tempo restante: {i} segundos\")\n",
    "        time.sleep(1)\n",
    "\n",
    "    print(\"Contagem regressiva concluída!\")\n",
    "    \n",
    "    driver.quit()\n",
    "\n"
   ]
  }
 ],
 "metadata": {
  "kernelspec": {
   "display_name": "Python 3",
   "language": "python",
   "name": "python3"
  },
  "language_info": {
   "codemirror_mode": {
    "name": "ipython",
    "version": 3
   },
   "file_extension": ".py",
   "mimetype": "text/x-python",
   "name": "python",
   "nbconvert_exporter": "python",
   "pygments_lexer": "ipython3",
   "version": "3.11.4"
  },
  "orig_nbformat": 4
 },
 "nbformat": 4,
 "nbformat_minor": 2
}
