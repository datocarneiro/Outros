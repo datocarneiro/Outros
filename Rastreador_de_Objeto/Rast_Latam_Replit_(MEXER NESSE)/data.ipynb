{
 "cells": [
  {
   "cell_type": "code",
   "execution_count": 9,
   "metadata": {},
   "outputs": [
    {
     "name": "stdout",
     "output_type": "stream",
     "text": [
      "[{'awb': 123, 'status': 'entregue', 'data': '10/10/2023'}, {'awb': 456, 'status': 'rota', 'data': '2/2/2023'}]\n",
      "   awb    status        data\n",
      "0  123  entregue  10/10/2023\n",
      "1  456      rota    2/2/2023\n"
     ]
    }
   ],
   "source": [
    "\n",
    "import pandas as pd\n",
    "\n",
    "dados = [{'awb': 123, 'status': \"entregue\", 'data': \"10/10/2023\"},\n",
    "         {'awb': 456, 'status': \"rota\", 'data': \"2/2/2023\"}]\n",
    "print(dados)\n",
    "\n",
    "df = pd.DataFrame(dados)\n",
    "print(df)"
   ]
  }
 ],
 "metadata": {
  "kernelspec": {
   "display_name": "Python 3",
   "language": "python",
   "name": "python3"
  },
  "language_info": {
   "codemirror_mode": {
    "name": "ipython",
    "version": 3
   },
   "file_extension": ".py",
   "mimetype": "text/x-python",
   "name": "python",
   "nbconvert_exporter": "python",
   "pygments_lexer": "ipython3",
   "version": "3.11.5"
  }
 },
 "nbformat": 4,
 "nbformat_minor": 2
}
