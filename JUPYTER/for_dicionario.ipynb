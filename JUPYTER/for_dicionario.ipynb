{
 "cells": [
  {
   "cell_type": "markdown",
   "metadata": {},
   "source": [
    "LAÇO FOR PERCORRENDO UM DICIONARIOA E CRIANDO UMA TABELA"
   ]
  },
  {
   "cell_type": "code",
   "execution_count": 97,
   "metadata": {},
   "outputs": [
    {
     "name": "stdout",
     "output_type": "stream",
     "text": [
      "AMPLO 2\n",
      "GOL 1\n",
      "JAD 65\n",
      "LATAM 13\n",
      "TOTAL EXP 4\n",
      "TRANSPORTADORA 1\n"
     ]
    }
   ],
   "source": [
    "# dicionario\n",
    "import pandas as pd\n",
    "\n",
    "resultados = {\"AMPLO\":2,\"GOL\":1,\"JAD\":65,\"LATAM\":13,\"TOTAL EXP\":4,\"TRANSPORTADORA\":1}\n",
    "for chave, valor in resultados.items():\n",
    "    print(chave, valor)\n"
   ]
  },
  {
   "cell_type": "markdown",
   "metadata": {},
   "source": [
    "criando |tabela com Pandas DaraFrame"
   ]
  },
  {
   "cell_type": "code",
   "execution_count": 98,
   "metadata": {},
   "outputs": [
    {
     "name": "stdout",
     "output_type": "stream",
     "text": [
      "                Valores\n",
      "AMPLO                 2\n",
      "GOL                   1\n",
      "JAD                  65\n",
      "LATAM                13\n",
      "TOTAL EXP             4\n",
      "TRANSPORTADORA        1\n"
     ]
    }
   ],
   "source": [
    "import pandas as pd\n",
    "\n",
    "resultados = {\"AMPLO\": 2, \"GOL\": 1, \"JAD\": 65, \"LATAM\": 13, \"TOTAL EXP\": 4, \"TRANSPORTADORA\": 1}\n",
    "df = pd.DataFrame.from_dict(resultados, orient='index', columns=['Valores'])\n",
    "print(df)\n"
   ]
  },
  {
   "cell_type": "code",
   "execution_count": 99,
   "metadata": {},
   "outputs": [
    {
     "name": "stdout",
     "output_type": "stream",
     "text": [
      "ola, mundo\n"
     ]
    }
   ],
   "source": [
    "print(\"ola, mundo\")"
   ]
  }
 ],
 "metadata": {
  "kernelspec": {
   "display_name": "Python 3",
   "language": "python",
   "name": "python3"
  },
  "language_info": {
   "codemirror_mode": {
    "name": "ipython",
    "version": 3
   },
   "file_extension": ".py",
   "mimetype": "text/x-python",
   "name": "python",
   "nbconvert_exporter": "python",
   "pygments_lexer": "ipython3",
   "version": "3.11.4"
  },
  "orig_nbformat": 4
 },
 "nbformat": 4,
 "nbformat_minor": 2
}
