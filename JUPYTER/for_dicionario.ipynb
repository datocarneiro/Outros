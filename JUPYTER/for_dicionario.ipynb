{
 "cells": [
  {
   "cell_type": "markdown",
   "metadata": {},
   "source": [
    "LAÇO FOR PERCORRENDO UM DICIONARIOA E CRIANDO UMA TABELA"
   ]
  },
  {
   "cell_type": "code",
   "execution_count": 139,
   "metadata": {},
   "outputs": [
    {
     "name": "stdout",
     "output_type": "stream",
     "text": [
      "AMPLO 2\n",
      "AMPLO 1\n",
      "AMPLO 65\n",
      "AMPLO 13\n",
      "AMPLO 4\n",
      "AMPLO 1\n",
      "GOL 2\n",
      "GOL 1\n",
      "GOL 65\n",
      "GOL 13\n",
      "GOL 4\n",
      "GOL 1\n",
      "JAD 2\n",
      "JAD 1\n",
      "JAD 65\n",
      "JAD 13\n",
      "JAD 4\n",
      "JAD 1\n",
      "LATAM 2\n",
      "LATAM 1\n",
      "LATAM 65\n",
      "LATAM 13\n",
      "LATAM 4\n",
      "LATAM 1\n",
      "TOTAL EXP 2\n",
      "TOTAL EXP 1\n",
      "TOTAL EXP 65\n",
      "TOTAL EXP 13\n",
      "TOTAL EXP 4\n",
      "TOTAL EXP 1\n",
      "TRANSPORTADORA 2\n",
      "TRANSPORTADORA 1\n",
      "TRANSPORTADORA 65\n",
      "TRANSPORTADORA 13\n",
      "TRANSPORTADORA 4\n",
      "TRANSPORTADORA 1\n"
     ]
    }
   ],
   "source": [
    "# dicionario\n",
    "import pandas as pd\n",
    "\n",
    "resultados = {\"AMPLO\":2,\"GOL\":1,\"JAD\":65,\"LATAM\":13,\"TOTAL EXP\":4,\"TRANSPORTADORA\":1}\n",
    "for chave in resultados:\n",
    "    for valor in resultados.values():\n",
    "        print(chave, valor)\n"
   ]
  }
 ],
 "metadata": {
  "kernelspec": {
   "display_name": "Python 3",
   "language": "python",
   "name": "python3"
  },
  "language_info": {
   "codemirror_mode": {
    "name": "ipython",
    "version": 3
   },
   "file_extension": ".py",
   "mimetype": "text/x-python",
   "name": "python",
   "nbconvert_exporter": "python",
   "pygments_lexer": "ipython3",
   "version": "3.11.4"
  },
  "orig_nbformat": 4
 },
 "nbformat": 4,
 "nbformat_minor": 2
}
