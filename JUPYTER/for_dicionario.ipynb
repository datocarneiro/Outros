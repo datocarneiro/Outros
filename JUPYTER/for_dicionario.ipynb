{
 "cells": [
  {
   "cell_type": "markdown",
   "metadata": {},
   "source": [
    "LAÇO FOR PERCORRENDO UM DICIONARIOA E CRIANDO UMA TABELA"
   ]
  },
  {
   "cell_type": "code",
   "execution_count": 35,
   "metadata": {},
   "outputs": [
    {
     "ename": "TypeError",
     "evalue": "unhashable type: 'set'",
     "output_type": "error",
     "traceback": [
      "\u001b[1;31m---------------------------------------------------------------------------\u001b[0m",
      "\u001b[1;31mTypeError\u001b[0m                                 Traceback (most recent call last)",
      "Cell \u001b[1;32mIn[35], line 4\u001b[0m\n\u001b[0;32m      1\u001b[0m \u001b[39m# dicionario\u001b[39;00m\n\u001b[0;32m      3\u001b[0m {\u001b[39m\"\u001b[39m\u001b[39mresultados\u001b[39m\u001b[39m\"\u001b[39m:{\u001b[39m\"\u001b[39m\u001b[39mAMPLO\u001b[39m\u001b[39m\"\u001b[39m:\u001b[39m2\u001b[39m,\u001b[39m\"\u001b[39m\u001b[39mGOL\u001b[39m\u001b[39m\"\u001b[39m:\u001b[39m1\u001b[39m,\u001b[39m\"\u001b[39m\u001b[39mJAD\u001b[39m\u001b[39m\"\u001b[39m:\u001b[39m65\u001b[39m,\u001b[39m\"\u001b[39m\u001b[39mLATAM\u001b[39m\u001b[39m\"\u001b[39m:\u001b[39m13\u001b[39m,\u001b[39m\"\u001b[39m\u001b[39mTOTAL EXP\u001b[39m\u001b[39m\"\u001b[39m:\u001b[39m4\u001b[39m,\u001b[39m\"\u001b[39m\u001b[39mTRANSPORTADORA\u001b[39m\u001b[39m\"\u001b[39m:\u001b[39m1\u001b[39m},\u001b[39m\"\u001b[39m\u001b[39mtotal_palavras\u001b[39m\u001b[39m\"\u001b[39m:\u001b[39m86\u001b[39m}\n\u001b[1;32m----> 4\u001b[0m \u001b[39mprint\u001b[39m({{\u001b[39m\"\u001b[39m\u001b[39mresultados\u001b[39m\u001b[39m\"\u001b[39m}})\n\u001b[0;32m      5\u001b[0m \u001b[39m#for chave in resultados:\u001b[39;00m\n\u001b[0;32m      6\u001b[0m     \u001b[39m#print(chave)\u001b[39;00m\n",
      "\u001b[1;31mTypeError\u001b[0m: unhashable type: 'set'"
     ]
    }
   ],
   "source": [
    "# dicionario\n",
    "\n",
    "{\"resultados\":{\"AMPLO\":2,\"GOL\":1,\"JAD\":65,\"LATAM\":13,\"TOTAL EXP\":4,\"TRANSPORTADORA\":1},\"total_palavras\":86}\n",
    "print({{\"resultados\"}})\n",
    "#for chave in resultados:\n",
    "    #print(chave)"
   ]
  },
  {
   "cell_type": "code",
   "execution_count": null,
   "metadata": {},
   "outputs": [],
   "source": []
  },
  {
   "cell_type": "code",
   "execution_count": null,
   "metadata": {},
   "outputs": [],
   "source": []
  },
  {
   "cell_type": "code",
   "execution_count": null,
   "metadata": {},
   "outputs": [],
   "source": []
  }
 ],
 "metadata": {
  "kernelspec": {
   "display_name": "Python 3",
   "language": "python",
   "name": "python3"
  },
  "language_info": {
   "codemirror_mode": {
    "name": "ipython",
    "version": 3
   },
   "file_extension": ".py",
   "mimetype": "text/x-python",
   "name": "python",
   "nbconvert_exporter": "python",
   "pygments_lexer": "ipython3",
   "version": "3.11.4"
  },
  "orig_nbformat": 4
 },
 "nbformat": 4,
 "nbformat_minor": 2
}
