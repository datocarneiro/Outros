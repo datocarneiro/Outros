import requests
import json

dados_cotação = dados_cotação.get("https://economia.awesomeapi.com.br/last/USD-BRL,EUR-BRL,BTC-BRL")

print(dados_cotação)