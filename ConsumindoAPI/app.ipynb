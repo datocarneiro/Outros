{
 "cells": [
  {
   "cell_type": "code",
   "execution_count": 26,
   "metadata": {},
   "outputs": [
    {
     "name": "stdout",
     "output_type": "stream",
     "text": [
      "{'code': 'USD', 'codein': 'BRL', 'name': 'Dólar Americano/Real Brasileiro', 'high': '4.9941', 'low': '4.965', 'varBid': '0.0107', 'pctChange': '0.22', 'bid': '4.9857', 'ask': '4.9892', 'timestamp': '1694206796', 'create_date': '2023-09-08 17:59:56'}\n",
      "{'code': 'EUR', 'codein': 'BRL', 'name': 'Euro/Real Brasileiro', 'high': '5.3542', 'low': '5.3158', 'varBid': '0.0065', 'pctChange': '0.12', 'bid': '5.3271', 'ask': '5.3351', 'timestamp': '1694206777', 'create_date': '2023-09-08 17:59:37'}\n",
      "{'code': 'BTC', 'codein': 'BRL', 'name': 'Bitcoin/Real Brasileiro', 'high': '130228', 'low': '129148', 'varBid': '387', 'pctChange': '0.3', 'bid': '129725', 'ask': '129887', 'timestamp': '1694291186', 'create_date': '2023-09-09 17:26:26'}\n"
     ]
    }
   ],
   "source": [
    "import requests\n",
    "import json\n",
    "\n",
    "dados_cotacoes = requests.get(\"https://economia.awesomeapi.com.br/last/USD-BRL,EUR-BRL,BTC-BRL\")\n",
    "dados_cotacoes = dados_cotacoes.json()\n",
    "\n",
    "for i in dados_cotacoes:\n",
    "    print(dados_cotacoes[i])"
   ]
  }
 ],
 "metadata": {
  "kernelspec": {
   "display_name": "Python 3",
   "language": "python",
   "name": "python3"
  },
  "language_info": {
   "codemirror_mode": {
    "name": "ipython",
    "version": 3
   },
   "file_extension": ".py",
   "mimetype": "text/x-python",
   "name": "python",
   "nbconvert_exporter": "python",
   "pygments_lexer": "ipython3",
   "version": "3.11.5"
  },
  "orig_nbformat": 4
 },
 "nbformat": 4,
 "nbformat_minor": 2
}
