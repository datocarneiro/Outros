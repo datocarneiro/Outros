{
 "cells": [
  {
   "cell_type": "code",
   "execution_count": 113,
   "metadata": {},
   "outputs": [
    {
     "name": "stdout",
     "output_type": "stream",
     "text": [
      "Franquia: 19233\n",
      "AWB: 95712801530\n",
      "Status: Tranferencia\n",
      "------------------------------\n",
      "Franquia: 37823\n",
      "AWB: 95712800896\n",
      "Status: ENTREGUE\n",
      "não adicionar\n",
      "------------------------------\n",
      "Franquia: 38877\n",
      "AWB: 95712800093\n",
      "Status: ENTREGUE\n",
      "não adicionar\n",
      "------------------------------\n",
      "Franquia: 41262\n",
      "AWB: 95712799592\n",
      "Status: ENTREGUE\n",
      "não adicionar\n",
      "------------------------------\n",
      "Franquia: 42642\n",
      "AWB: 95713102972\n",
      "Status: Retida\n",
      "------------------------------\n",
      "[95713102972]\n",
      "------------------------------\n"
     ]
    },
    {
     "ename": "TypeError",
     "evalue": "unhashable type: 'list'",
     "output_type": "error",
     "traceback": [
      "\u001b[1;31m---------------------------------------------------------------------------\u001b[0m",
      "\u001b[1;31mTypeError\u001b[0m                                 Traceback (most recent call last)",
      "Cell \u001b[1;32mIn[113], line 24\u001b[0m\n\u001b[0;32m     22\u001b[0m \u001b[39mprint\u001b[39m(lista[\u001b[39m1\u001b[39m:])\n\u001b[0;32m     23\u001b[0m \u001b[39mprint\u001b[39m(\u001b[39m'\u001b[39m\u001b[39m-\u001b[39m\u001b[39m'\u001b[39m\u001b[39m*\u001b[39m\u001b[39m30\u001b[39m)\n\u001b[1;32m---> 24\u001b[0m dicionario \u001b[39m=\u001b[39m {lista}\n\u001b[0;32m     25\u001b[0m \u001b[39mprint\u001b[39m(dicionario)\n",
      "\u001b[1;31mTypeError\u001b[0m: unhashable type: 'list'"
     ]
    }
   ],
   "source": [
    "from openpyxl import Workbook, load_workbook\n",
    "\n",
    "# Carregar planilha\n",
    "planilha = load_workbook('Rastreamento.xlsx')\n",
    "aba_ativa = planilha.active\n",
    "\n",
    "\n",
    "# consultar a planilha, e criar uma lista somente com as que forem diferente de \"ENTREGUE\"\n",
    "lista = []\n",
    "\n",
    "for coluna_a, coluna_c, coluna_d in zip(aba_ativa[\"A\"][1:], aba_ativa[\"C\"][1:], aba_ativa[\"D\"][1:]):\n",
    "    print(f'Franquia: {coluna_a.value}')\n",
    "    print(f'AWB: {coluna_c.value}')\n",
    "    print(f'Status: {coluna_d.value}')\n",
    "    #se os dados da coluna \"D(status)\" forem diferente de \"Entregue\", adicione(append) à lista os dados da coluna \"C(AWB)\".\n",
    "    if coluna_d.value != 'ENTREGUE':\n",
    "        lista.append(coluna_c.value)\n",
    "        print('-'*30)\n",
    "    else:\n",
    "        print('não adicionar')\n",
    "        print('-'*30)\n",
    "print(lista[1:])\n",
    "print('-'*30)\n",
    "dicionario = {lista}\n",
    "print(dicionario)\n"
   ]
  }
 ],
 "metadata": {
  "kernelspec": {
   "display_name": "Python 3",
   "language": "python",
   "name": "python3"
  },
  "language_info": {
   "codemirror_mode": {
    "name": "ipython",
    "version": 3
   },
   "file_extension": ".py",
   "mimetype": "text/x-python",
   "name": "python",
   "nbconvert_exporter": "python",
   "pygments_lexer": "ipython3",
   "version": "3.11.4"
  },
  "orig_nbformat": 4
 },
 "nbformat": 4,
 "nbformat_minor": 2
}
