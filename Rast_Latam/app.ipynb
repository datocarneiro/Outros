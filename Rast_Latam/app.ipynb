{
 "cells": [
  {
   "cell_type": "code",
   "execution_count": 77,
   "metadata": {},
   "outputs": [
    {
     "name": "stdout",
     "output_type": "stream",
     "text": [
      "[datetime.datetime(2023, 9, 13, 0, 0), 'Tranferencia', 'ENTREGUE', 'ENTREGUE', 'ENTREGUE', 'Retida']\n",
      "['AWB', 95712801530, 95712800896, 95712800093, 95712799592, 95713102972]\n"
     ]
    }
   ],
   "source": [
    "from time import sleep\n",
    "from openpyxl import Workbook, load_workbook\n",
    "\n",
    "\n",
    "# ler valor da celula no excel\n",
    "#carregar planilha\n",
    "planilha = load_workbook('Rastreamento.xlsx')\n",
    "aba_ativa = planilha.active\n",
    "\n",
    "lista1 = []\n",
    "\n",
    "#if i != 'Entregue':\n",
    "for i in aba_ativa[\"D\"]: # \"C\" é a coluna da planilha que quero percorrer\n",
    "    if i != 'ENTREGUE':\n",
    "        lista1.append(i.value)\n",
    "    else:\n",
    "        print('não adicionar')\n",
    "print(lista1)\n",
    "\n",
    "lista2 = []\n",
    "for celula in aba_ativa[\"C\"]: # \"C\" é a coluna da planilha que quero percorrer\n",
    "        lista2.append(celula.value)\n",
    "print(lista2)"
   ]
  }
 ],
 "metadata": {
  "kernelspec": {
   "display_name": "Python 3",
   "language": "python",
   "name": "python3"
  },
  "language_info": {
   "codemirror_mode": {
    "name": "ipython",
    "version": 3
   },
   "file_extension": ".py",
   "mimetype": "text/x-python",
   "name": "python",
   "nbconvert_exporter": "python",
   "pygments_lexer": "ipython3",
   "version": "3.11.4"
  },
  "orig_nbformat": 4
 },
 "nbformat": 4,
 "nbformat_minor": 2
}
