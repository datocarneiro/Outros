{
 "cells": [
  {
   "cell_type": "code",
   "execution_count": 100,
   "metadata": {},
   "outputs": [
    {
     "name": "stdout",
     "output_type": "stream",
     "text": [
      "2023-09-13 00:00:00...print for\n",
      "AWB...print if\n",
      "--------------------\n",
      "Tranferencia...print for\n",
      "95712801530...print if\n",
      "--------------------\n",
      "ENTREGUE...print for\n",
      "não adicionar\n",
      "--------------------\n",
      "ENTREGUE...print for\n",
      "não adicionar\n",
      "--------------------\n",
      "ENTREGUE...print for\n",
      "não adicionar\n",
      "--------------------\n",
      "Retida...print for\n",
      "95713102972...print if\n",
      "--------------------\n",
      "[95712801530, 95713102972]\n",
      "--------------------\n"
     ]
    },
    {
     "ename": "TypeError",
     "evalue": "unhashable type: 'list'",
     "output_type": "error",
     "traceback": [
      "\u001b[1;31m---------------------------------------------------------------------------\u001b[0m",
      "\u001b[1;31mTypeError\u001b[0m                                 Traceback (most recent call last)",
      "Cell \u001b[1;32mIn[100], line 22\u001b[0m\n\u001b[0;32m     20\u001b[0m \u001b[39mprint\u001b[39m(lista[\u001b[39m1\u001b[39m:])\n\u001b[0;32m     21\u001b[0m \u001b[39mprint\u001b[39m(\u001b[39m'\u001b[39m\u001b[39m-\u001b[39m\u001b[39m'\u001b[39m\u001b[39m*\u001b[39m\u001b[39m20\u001b[39m)\n\u001b[1;32m---> 22\u001b[0m dicionario \u001b[39m=\u001b[39m {lista}\n\u001b[0;32m     23\u001b[0m \u001b[39mprint\u001b[39m(dicionario)\n",
      "\u001b[1;31mTypeError\u001b[0m: unhashable type: 'list'"
     ]
    }
   ],
   "source": [
    "from openpyxl import Workbook, load_workbook\n",
    "\n",
    "# Carregar planilha\n",
    "planilha = load_workbook('Rastreamento.xlsx')\n",
    "aba_ativa = planilha.active\n",
    "\n",
    "\n",
    "# consultar a planilha, e criar uma lista somente com as que forem diferente de \"ENTREGUE\"\n",
    "lista = []\n",
    "\n",
    "for celula_d, celula_c in zip(aba_ativa[\"D\"], aba_ativa[\"C\"]):\n",
    "    print(f'{celula_d.value}...print for')\n",
    "    if celula_d.value != 'ENTREGUE':\n",
    "        lista.append(celula_c.value)\n",
    "        print(f'{celula_c.value}...print if')\n",
    "        print('-'*20)\n",
    "    else:\n",
    "        print('não adicionar')\n",
    "        print('-'*20)\n",
    "print(lista[1:])\n",
    "print('-'*20)\n",
    "dicionario = {lista}\n",
    "print(dicionario)\n"
   ]
  }
 ],
 "metadata": {
  "kernelspec": {
   "display_name": "Python 3",
   "language": "python",
   "name": "python3"
  },
  "language_info": {
   "codemirror_mode": {
    "name": "ipython",
    "version": 3
   },
   "file_extension": ".py",
   "mimetype": "text/x-python",
   "name": "python",
   "nbconvert_exporter": "python",
   "pygments_lexer": "ipython3",
   "version": "3.11.4"
  },
  "orig_nbformat": 4
 },
 "nbformat": 4,
 "nbformat_minor": 2
}
